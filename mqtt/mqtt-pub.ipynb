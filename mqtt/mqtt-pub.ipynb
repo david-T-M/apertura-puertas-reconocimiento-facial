{
 "cells": [
  {
   "cell_type": "code",
   "execution_count": 17,
   "metadata": {},
   "outputs": [],
   "source": [
    "from paho.mqtt import client as mqtt_client"
   ]
  },
  {
   "cell_type": "code",
   "execution_count": 18,
   "metadata": {},
   "outputs": [
    {
     "name": "stdout",
     "output_type": "stream",
     "text": [
      "Connected to MQTT Broker!\n"
     ]
    },
    {
     "name": "stdout",
     "output_type": "stream",
     "text": [
      "Connected to MQTT Broker!\n",
      "Connected to MQTT Broker!\n",
      "Connected to MQTT Broker!\n",
      "Connected to MQTT Broker!\n",
      "Connected to MQTT Broker!\n"
     ]
    }
   ],
   "source": [
    "broker = 'broker.hivemq.com'\n",
    "port = 1883\n",
    "topic = \"codigoIoT/mqtt/python\"\n",
    "client_id = f'David Torres'"
   ]
  },
  {
   "cell_type": "code",
   "execution_count": 19,
   "metadata": {},
   "outputs": [
    {
     "name": "stdout",
     "output_type": "stream",
     "text": [
      "Connected to MQTT Broker!\n",
      "Connected to MQTT Broker!\n",
      "Connected to MQTT Broker!\n"
     ]
    }
   ],
   "source": [
    "def connect_mqtt():\n",
    "    def on_connect(client, userdata, flags, rc):\n",
    "        if rc == 0:\n",
    "            print(\"Connected to MQTT Broker!\")\n",
    "        else:\n",
    "            print(\"Failed to connect, return code %d\\n\", rc)\n",
    "    # Set Connecting Client ID\n",
    "    client = mqtt_client.Client(client_id)\n",
    "    client.on_connect = on_connect\n",
    "    client.connect(broker, port)\n",
    "    return client"
   ]
  },
  {
   "cell_type": "code",
   "execution_count": 20,
   "metadata": {},
   "outputs": [
    {
     "name": "stdout",
     "output_type": "stream",
     "text": [
      "Connected to MQTT Broker!\n",
      "Connected to MQTT Broker!\n",
      "Connected to MQTT Broker!\n",
      "Connected to MQTT Broker!\n",
      "Connected to MQTT Broker!\n",
      "Connected to MQTT Broker!\n",
      "Connected to MQTT Broker!\n",
      "Connected to MQTT Broker!\n",
      "Connected to MQTT Broker!\n",
      "Connected to MQTT Broker!\n",
      "Connected to MQTT Broker!\n",
      "Connected to MQTT Broker!\n"
     ]
    }
   ],
   "source": [
    "import time"
   ]
  },
  {
   "cell_type": "code",
   "execution_count": 21,
   "metadata": {},
   "outputs": [
    {
     "name": "stdout",
     "output_type": "stream",
     "text": [
      "Connected to MQTT Broker!\n",
      "Connected to MQTT Broker!\n",
      "Connected to MQTT Broker!\n",
      "Connected to MQTT Broker!\n",
      "Connected to MQTT Broker!\n",
      "Connected to MQTT Broker!\n",
      "Connected to MQTT Broker!\n",
      "Connected to MQTT Broker!\n",
      "Connected to MQTT Broker!\n",
      "Connected to MQTT Broker!\n",
      "Connected to MQTT Broker!\n",
      "Connected to MQTT Broker!\n"
     ]
    }
   ],
   "source": [
    "def publish(client):\n",
    "    msg_count = 0\n",
    "    while True:\n",
    "        time.sleep(1)\n",
    "        mess=\"David Torres \"+str(msg_count)\n",
    "        msg = f\"messages: {mess}\"\n",
    "        result = client.publish(topic, msg)\n",
    "        # result: [0, 1]\n",
    "        status = result[0]\n",
    "        if status == 0:\n",
    "            print(f\"Send `{msg}` to topic `{topic}`\")\n",
    "        else:\n",
    "            print(f\"Failed to send message to topic {topic}\")\n",
    "        msg_count += 1"
   ]
  },
  {
   "cell_type": "code",
   "execution_count": 22,
   "metadata": {},
   "outputs": [
    {
     "name": "stdout",
     "output_type": "stream",
     "text": [
      "Connected to MQTT Broker!\n",
      "Connected to MQTT Broker!\n",
      "Connected to MQTT Broker!\n",
      "Send `messages: David Torres 0` to topic `codigoIoT/mqtt/python`\n",
      "Connected to MQTT Broker!\n",
      "Send `messages: David Torres 1` to topic `codigoIoT/mqtt/python`\n",
      "Connected to MQTT Broker!\n",
      "Connected to MQTT Broker!\n",
      "Connected to MQTT Broker!\n",
      "Failed to send message to topic codigoIoT/mqtt/python\n",
      "Connected to MQTT Broker!\n",
      "Connected to MQTT Broker!\n",
      "Failed to send message to topic codigoIoT/mqtt/python\n",
      "Connected to MQTT Broker!\n"
     ]
    },
    {
     "ename": "KeyboardInterrupt",
     "evalue": "",
     "output_type": "error",
     "traceback": [
      "\u001b[0;31m---------------------------------------------------------------------------\u001b[0m",
      "\u001b[0;31mKeyboardInterrupt\u001b[0m                         Traceback (most recent call last)",
      "\u001b[1;32m/home/david/Documentos/github/apertura-puertas-reconocimiento-facial/mqtt/mqtt-pub.ipynb Celda 6\u001b[0m in \u001b[0;36m<module>\u001b[0;34m\u001b[0m\n\u001b[1;32m      <a href='vscode-notebook-cell:/home/david/Documentos/github/apertura-puertas-reconocimiento-facial/mqtt/mqtt-pub.ipynb#W5sZmlsZQ%3D%3D?line=0'>1</a>\u001b[0m client \u001b[39m=\u001b[39m connect_mqtt()\n\u001b[1;32m      <a href='vscode-notebook-cell:/home/david/Documentos/github/apertura-puertas-reconocimiento-facial/mqtt/mqtt-pub.ipynb#W5sZmlsZQ%3D%3D?line=1'>2</a>\u001b[0m \u001b[39m#client.loop_start()\u001b[39;00m\n\u001b[0;32m----> <a href='vscode-notebook-cell:/home/david/Documentos/github/apertura-puertas-reconocimiento-facial/mqtt/mqtt-pub.ipynb#W5sZmlsZQ%3D%3D?line=2'>3</a>\u001b[0m publish(client)\n",
      "\u001b[1;32m/home/david/Documentos/github/apertura-puertas-reconocimiento-facial/mqtt/mqtt-pub.ipynb Celda 6\u001b[0m in \u001b[0;36mpublish\u001b[0;34m(client)\u001b[0m\n\u001b[1;32m      <a href='vscode-notebook-cell:/home/david/Documentos/github/apertura-puertas-reconocimiento-facial/mqtt/mqtt-pub.ipynb#W5sZmlsZQ%3D%3D?line=1'>2</a>\u001b[0m msg_count \u001b[39m=\u001b[39m \u001b[39m0\u001b[39m\n\u001b[1;32m      <a href='vscode-notebook-cell:/home/david/Documentos/github/apertura-puertas-reconocimiento-facial/mqtt/mqtt-pub.ipynb#W5sZmlsZQ%3D%3D?line=2'>3</a>\u001b[0m \u001b[39mwhile\u001b[39;00m \u001b[39mTrue\u001b[39;00m:\n\u001b[0;32m----> <a href='vscode-notebook-cell:/home/david/Documentos/github/apertura-puertas-reconocimiento-facial/mqtt/mqtt-pub.ipynb#W5sZmlsZQ%3D%3D?line=3'>4</a>\u001b[0m     time\u001b[39m.\u001b[39;49msleep(\u001b[39m1\u001b[39;49m)\n\u001b[1;32m      <a href='vscode-notebook-cell:/home/david/Documentos/github/apertura-puertas-reconocimiento-facial/mqtt/mqtt-pub.ipynb#W5sZmlsZQ%3D%3D?line=4'>5</a>\u001b[0m     mess\u001b[39m=\u001b[39m\u001b[39m\"\u001b[39m\u001b[39mDavid Torres \u001b[39m\u001b[39m\"\u001b[39m\u001b[39m+\u001b[39m\u001b[39mstr\u001b[39m(msg_count)\n\u001b[1;32m      <a href='vscode-notebook-cell:/home/david/Documentos/github/apertura-puertas-reconocimiento-facial/mqtt/mqtt-pub.ipynb#W5sZmlsZQ%3D%3D?line=5'>6</a>\u001b[0m     msg \u001b[39m=\u001b[39m \u001b[39mf\u001b[39m\u001b[39m\"\u001b[39m\u001b[39mmessages: \u001b[39m\u001b[39m{\u001b[39;00mmess\u001b[39m}\u001b[39;00m\u001b[39m\"\u001b[39m\n",
      "\u001b[0;31mKeyboardInterrupt\u001b[0m: "
     ]
    },
    {
     "name": "stdout",
     "output_type": "stream",
     "text": [
      "Connected to MQTT Broker!\n"
     ]
    }
   ],
   "source": [
    "client = connect_mqtt()\n",
    "#client.loop_start()\n",
    "publish(client)"
   ]
  }
 ],
 "metadata": {
  "kernelspec": {
   "display_name": "Python 3.8.10 64-bit",
   "language": "python",
   "name": "python3"
  },
  "language_info": {
   "codemirror_mode": {
    "name": "ipython",
    "version": 3
   },
   "file_extension": ".py",
   "mimetype": "text/x-python",
   "name": "python",
   "nbconvert_exporter": "python",
   "pygments_lexer": "ipython3",
   "version": "3.8.10"
  },
  "orig_nbformat": 4,
  "vscode": {
   "interpreter": {
    "hash": "916dbcbb3f70747c44a77c7bcd40155683ae19c65e1c03b4aa3499c5328201f1"
   }
  }
 },
 "nbformat": 4,
 "nbformat_minor": 2
}
